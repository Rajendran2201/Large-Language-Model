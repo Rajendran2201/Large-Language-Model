{
 "cells": [
  {
   "cell_type": "markdown",
   "metadata": {},
   "source": [
    "# Model Pretraining"
   ]
  },
  {
   "cell_type": "markdown",
   "metadata": {},
   "source": [
    "#### Healthcare case studies"
   ]
  },
  {
   "cell_type": "code",
   "execution_count": 1,
   "metadata": {},
   "outputs": [
    {
     "name": "stderr",
     "output_type": "stream",
     "text": [
      "/Users/rajendran/Desktop/LLM/llm_workshop/lib/python3.12/site-packages/tqdm/auto.py:21: TqdmWarning: IProgress not found. Please update jupyter and ipywidgets. See https://ipywidgets.readthedocs.io/en/stable/user_install.html\n",
      "  from .autonotebook import tqdm as notebook_tqdm\n"
     ]
    }
   ],
   "source": [
    "# importing the dependencies \n",
    "\n",
    "import torch\n",
    "from transformers import GPT2Tokenizer, GPT2LMHeadModel"
   ]
  },
  {
   "cell_type": "code",
   "execution_count": 2,
   "metadata": {},
   "outputs": [],
   "source": [
    "# Load pre-trained GPT-2 model and tokenizer\n",
    "tokenizer = GPT2Tokenizer.from_pretrained(\"gpt2\")\n",
    "model = GPT2LMHeadModel.from_pretrained(\"gpt2\")"
   ]
  },
  {
   "cell_type": "code",
   "execution_count": 3,
   "metadata": {},
   "outputs": [],
   "source": [
    "# Function to generate answer for a patient question\n",
    "def generate_answer(question):\n",
    "    # Encode the question\n",
    "    input_ids = tokenizer.encode(question, return_tensors=\"pt\")\n",
    "\n",
    "    # Generate answer using GPT-2 model\n",
    "    with torch.no_grad():\n",
    "        output = model.generate(input_ids, max_length=100, num_return_sequences=1, temperature=0.7)\n",
    "    \n",
    "    # Decode the generated answer\n",
    "    answer = tokenizer.decode(output[0], skip_special_tokens=True)\n",
    "    \n",
    "    return answer"
   ]
  },
  {
   "cell_type": "code",
   "execution_count": 4,
   "metadata": {},
   "outputs": [
    {
     "name": "stderr",
     "output_type": "stream",
     "text": [
      "/Users/rajendran/Desktop/LLM/llm_workshop/lib/python3.12/site-packages/transformers/generation/configuration_utils.py:410: UserWarning: `do_sample` is set to `False`. However, `temperature` is set to `0.7` -- this flag is only used in sample-based generation modes. You should set `do_sample=True` or unset `temperature`.\n",
      "  warnings.warn(\n",
      "The attention mask and the pad token id were not set. As a consequence, you may observe unexpected behavior. Please pass your input's `attention_mask` to obtain reliable results.\n",
      "Setting `pad_token_id` to `eos_token_id`:50256 for open-end generation.\n"
     ]
    },
    {
     "name": "stdout",
     "output_type": "stream",
     "text": [
      "Answer: What are the symptoms of COVID-19?\n",
      "\n",
      "COVID-19 is a common cold. It is caused by a virus that causes a cold. It is usually caused by a virus that causes a cold. It is usually caused by a virus that causes a cold. It is usually caused by a virus that causes a cold. It is usually caused by a virus that causes a cold. It is usually caused by a virus that causes a cold. It is usually caused by a virus that\n"
     ]
    }
   ],
   "source": [
    "# Example usage\n",
    "question = \"What are the symptoms of COVID-19?\"\n",
    "answer = generate_answer(question)\n",
    "print(\"Answer:\", answer)"
   ]
  },
  {
   "cell_type": "markdown",
   "metadata": {},
   "source": [
    "## RAG"
   ]
  },
  {
   "cell_type": "code",
   "execution_count": 5,
   "metadata": {},
   "outputs": [],
   "source": [
    "from sentence_transformers import SentenceTransformer, util\n",
    "import pandas as pd\n",
    "import torch"
   ]
  },
  {
   "cell_type": "code",
   "execution_count": 22,
   "metadata": {},
   "outputs": [],
   "source": [
    "# Sample patient question-answer pairs\n",
    "patient_data = [\n",
    "    {\n",
    "        \"question\": \"What are the symptoms of COVID-19?\", \n",
    "        \"answer\": \"Common symptoms of COVID-19 include fever, cough, and shortness of breath.\"\n",
    "    },\n",
    "\n",
    "    {\n",
    "         \"question\": \"How is diabetes diagnosed?\", \n",
    "         \"answer\": \"Diabetes is diagnosed through tests such as fasting blood sugar, oral glucose tolerance test, etc.\"\n",
    "    },\n",
    "    \n",
    "    {\n",
    "        \"question\": \"What treatments are available for asthma?\",\n",
    "        \"answer\": \"Treatments for asthma include bronchodilators, inhaled corticosteroids, etc.\"\n",
    "    },\n",
    "    \n",
    "    {\n",
    "        \"question\": \"What is the function of the pancreas?\",\n",
    "        \"answer\": \"The pancreas produces enzymes that aid in digestion and hormones such as insulin and glucagon that regulate blood sugar levels.\"\n",
    "    },\n",
    "    {\n",
    "        \"question\": \"How does chemotherapy work?\",\n",
    "        \"answer\": \"Chemotherapy works by targeting and killing rapidly dividing cells, which includes cancer cells. It can be administered orally or intravenously.\"\n",
    "    },\n",
    "    {\n",
    "        \"question\": \"What is the difference between type 1 and type 2 diabetes?\",\n",
    "        \"answer\": \"Type 1 diabetes is an autoimmune condition where the body does not produce insulin, while type 2 diabetes is characterized by insulin resistance or insufficient insulin production.\"\n",
    "    },\n",
    "    {\n",
    "        \"question\": \"What are the risk factors for heart disease?\",\n",
    "        \"answer\": \"Risk factors for heart disease include high blood pressure, high cholesterol, smoking, obesity, diabetes, and a sedentary lifestyle.\"\n",
    "    },\n",
    "    {\n",
    "        \"question\": \"What are the symptoms of a stroke?\",\n",
    "        \"answer\": \"Symptoms of a stroke include sudden numbness or weakness in the face, arm, or leg, confusion, trouble speaking or understanding, and difficulty walking.\"\n",
    "    },\n",
    "    {\n",
    "        \"question\": \"How does the immune system work?\",\n",
    "        \"answer\": \"The immune system defends the body against pathogens such as bacteria, viruses, and parasites. It includes various cells, tissues, and organs that work together to identify and destroy harmful invaders.\"\n",
    "    },\n",
    "    {\n",
    "        \"question\": \"What are the benefits of regular exercise?\",\n",
    "        \"answer\": \"Regular exercise can improve cardiovascular health, strengthen muscles and bones, boost mood, reduce stress, and help maintain a healthy weight.\"\n",
    "    },\n",
    "    {\n",
    "        \"question\": \"What is the recommended daily intake of water?\",\n",
    "        \"answer\": \"The recommended daily intake of water varies depending on factors such as age, sex, and activity level, but a general guideline is around 8 glasses or 2 liters per day.\"\n",
    "    },\n",
    "    {\n",
    "        \"question\": \"How does the flu vaccine work?\",\n",
    "        \"answer\": \"The flu vaccine works by exposing the immune system to weakened or inactive flu viruses, triggering an immune response that protects against future infections.\"\n",
    "    },\n",
    "    {\n",
    "        \"question\": \"What are the benefits of a balanced diet?\",\n",
    "        \"answer\": \"A balanced diet provides essential nutrients such as vitamins, minerals, protein, carbohydrates, and fats, which are necessary for overall health, energy, and disease prevention.\"\n",
    "    },\n",
    "    {\n",
    "        \"question\": \"What is the role of antioxidants in the body?\",\n",
    "        \"answer\": \"Antioxidants help neutralize harmful free radicals in the body, reducing oxidative stress and lowering the risk of chronic diseases such as cancer and heart disease.\"\n",
    "    },\n",
    "    {\n",
    "        \"question\": \"How does insulin regulate blood sugar levels?\",\n",
    "        \"answer\": \"Insulin facilitates the uptake of glucose by cells, reducing blood sugar levels. It also signals the liver to store excess glucose as glycogen.\"\n",
    "    },\n",
    "    {\n",
    "        \"question\": \"What are the benefits of quitting smoking?\",\n",
    "        \"answer\": \"Quitting smoking can improve lung function, reduce the risk of heart disease, stroke, and cancer, increase life expectancy, and improve overall quality of life.\"\n",
    "    },\n",
    "    {\n",
    "        \"question\": \"What are the warning signs of skin cancer?\",\n",
    "        \"answer\": \"Warning signs of skin cancer include changes in the size, shape, or color of moles or other skin lesions, itching, bleeding, and the appearance of new growths.\"\n",
    "    },\n",
    "    {\n",
    "        \"question\": \"How does stress affect health?\",\n",
    "        \"answer\": \"Chronic stress can negatively impact physical and mental health, leading to conditions such as high blood pressure, heart disease, depression, and anxiety.\"\n",
    "    },\n",
    "    {\n",
    "      \"question\":\"What are the symptoms of small pox?\",\n",
    "      \"answer\":\"It shows a severe enlargement in parotid gland\"\n",
    "    }\n",
    "\n",
    "     # Add more patient questions and corresponding answers\n",
    "\n",
    "]\n",
    "\n",
    "   \n"
   ]
  },
  {
   "cell_type": "code",
   "execution_count": 23,
   "metadata": {},
   "outputs": [],
   "source": [
    "# Load pre-trained Sentence Transformer model\n",
    "model = SentenceTransformer('paraphrase-MiniLM-L6-v2')\n",
    "df = pd.DataFrame(patient_data)"
   ]
  },
  {
   "cell_type": "code",
   "execution_count": 24,
   "metadata": {},
   "outputs": [],
   "source": [
    "# Embed the answers\n",
    "answer_embeddings = model.encode(df['question'], convert_to_tensor=True)"
   ]
  },
  {
   "cell_type": "code",
   "execution_count": 25,
   "metadata": {},
   "outputs": [],
   "source": [
    "def calculate_similarity(query, embeddings):\n",
    "    query_embedding = model.encode(query, convert_to_tensor=True)\n",
    "    cos_scores = util.pytorch_cos_sim(query_embedding, embeddings)[0]\n",
    "    return cos_scores"
   ]
  },
  {
   "cell_type": "code",
   "execution_count": 26,
   "metadata": {},
   "outputs": [],
   "source": [
    "def input_text_model(input_text):\n",
    "    input_sentence_processed = ''.join([i for i in input_text if not i.isdigit()])\n",
    "    query = input_sentence_processed\n",
    "    query_similarity = calculate_similarity(query, answer_embeddings)\n",
    "    top_n = 1\n",
    "    top_indices = query_similarity.argsort().cpu().numpy()[-top_n:]\n",
    "    similar_answers = df.loc[top_indices, 'answer'].tolist()\n",
    "    return similar_answers[-1]\n"
   ]
  },
  {
   "cell_type": "code",
   "execution_count": 28,
   "metadata": {},
   "outputs": [
    {
     "name": "stdout",
     "output_type": "stream",
     "text": [
      "Patient Question: symptoms of smallpox?\n",
      "Generated Answer: It shows a severe enlargement in parotid gland\n"
     ]
    }
   ],
   "source": [
    "# Example usage\n",
    "patient_question = \"symptoms of smallpox?\"\n",
    "answer = input_text_model(patient_question)\n",
    "print(\"Patient Question:\", patient_question)\n",
    "print(\"Generated Answer:\", answer)"
   ]
  }
 ],
 "metadata": {
  "kernelspec": {
   "display_name": "llm_workshop",
   "language": "python",
   "name": "python3"
  },
  "language_info": {
   "codemirror_mode": {
    "name": "ipython",
    "version": 3
   },
   "file_extension": ".py",
   "mimetype": "text/x-python",
   "name": "python",
   "nbconvert_exporter": "python",
   "pygments_lexer": "ipython3",
   "version": "3.12.2"
  },
  "orig_nbformat": 4
 },
 "nbformat": 4,
 "nbformat_minor": 2
}
