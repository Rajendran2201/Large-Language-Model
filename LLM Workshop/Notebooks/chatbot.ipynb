{
 "cells": [
  {
   "cell_type": "code",
   "execution_count": 1,
   "metadata": {},
   "outputs": [],
   "source": [
    "# importing the dependencies \n",
    "# openai is a library which is used to access the cloud based model of OpenAI \n",
    "# install openai by using the command in the command prompt  { pip install openai==0.28 } - windows \n",
    "\n",
    "'''\n",
    "\n",
    "Incase of MacOS, use the following command for installing openai\n",
    "\n",
    "{\n",
    "python3 -m ensurepip --default-pip\n",
    "python3 -m ensurepip\n",
    "pip3 install openai==0.28\n",
    "}\n",
    "\n",
    "\n",
    "'''\n",
    "\n",
    "import openai"
   ]
  },
  {
   "cell_type": "code",
   "execution_count": 15,
   "metadata": {},
   "outputs": [],
   "source": [
    "# API Key Setup: loading the openai API key - used to connect the server with the model \n",
    "# API key is a kind of Authentication key and since it is a cloud based model, we need this key \n",
    "\n",
    "\n",
    "openai.api_key = \"YOUR_API_KEY\""
   ]
  },
  {
   "cell_type": "code",
   "execution_count": 3,
   "metadata": {},
   "outputs": [],
   "source": [
    "# Chat Initialization: The script initializes a list of messages with a system message\n",
    "# This is a default code that has to be written to add the inputs we give into the \"messages\" list\n",
    "\n",
    "messages = [\n",
    "  {\"role\" : \"system\", \"content\" : \"You are helpful and kind AI Assistant.\"},\n",
    "]"
   ]
  },
  {
   "cell_type": "code",
   "execution_count": 9,
   "metadata": {},
   "outputs": [],
   "source": [
    "'''\n",
    "Chat Function:\n",
    "\n",
    "-  The script defines a function called chat_gpt_recommendation that takes user input, \n",
    "adds it to the list of messages, \n",
    "and then makes a call to the OpenAI Chat Completion API using the GPT-3.5-turbo model.\n",
    "\n",
    "- This is a standard code which has to written to connect your server with the openai's ChatGPT \n",
    "\n",
    "'''\n",
    "\n",
    "def chat_gpt_recommendation(input):\n",
    "    messages.append({\"role\": \"user\", \"content\": input})\n",
    "    chat = openai.ChatCompletion.create(\n",
    "    model=\"gpt-3.5-turbo\", messages=messages\n",
    "             )\n",
    "    reply = chat.choices[0].message.content\n",
    "    messages.append({\"role\": \"assistant\", \"content\": reply})\n",
    "    return reply"
   ]
  },
  {
   "cell_type": "code",
   "execution_count": 16,
   "metadata": {},
   "outputs": [
    {
     "name": "stdout",
     "output_type": "stream",
     "text": [
      "The capital of India is New Delhi.\n"
     ]
    }
   ],
   "source": [
    "input=\"What is the capital Of India\"\n",
    "print(chat_gpt_recommendation(input=input))"
   ]
  },
  {
   "cell_type": "code",
   "execution_count": 17,
   "metadata": {},
   "outputs": [
    {
     "name": "stdout",
     "output_type": "stream",
     "text": [
      "Python is a high-level, interpreted programming language known for its simplicity and readability. It supports multiple programming paradigms and is used for a wide range of applications, including web development, data analysis, artificial intelligence, scientific computing, and more. Python has a large and active community of developers that contribute to its extensive library of modules and frameworks.\n"
     ]
    }
   ],
   "source": [
    "input=\"What is Python?\"\n",
    "print(chat_gpt_recommendation(input=input))"
   ]
  },
  {
   "cell_type": "code",
   "execution_count": 18,
   "metadata": {},
   "outputs": [
    {
     "name": "stdout",
     "output_type": "stream",
     "text": [
      "Sundar Pichai is an Indian-American business executive and the CEO of Alphabet Inc., the parent company of Google. He was born in Chennai, India, and completed his education in the United States. Sundar Pichai joined Google in 2004 and played a key role in the development of products like Google Chrome, Chrome OS, and Google Drive. In 2015, he became the CEO of Google and then later also took on the role of CEO of Alphabet Inc.\n"
     ]
    }
   ],
   "source": [
    "input=\"Who is sundar pichai ?\"\n",
    "print(chat_gpt_recommendation(input=input))"
   ]
  },
  {
   "cell_type": "code",
   "execution_count": 19,
   "metadata": {},
   "outputs": [
    {
     "name": "stdout",
     "output_type": "stream",
     "text": [
      "I am an AI assistant created by a team of developers and engineers.\n"
     ]
    }
   ],
   "source": [
    "input=\"Who created you?\"\n",
    "print(chat_gpt_recommendation(input=input))"
   ]
  },
  {
   "cell_type": "code",
   "execution_count": 20,
   "metadata": {},
   "outputs": [
    {
     "name": "stdout",
     "output_type": "stream",
     "text": [
      "Here is a Python code snippet that prints even numbers from 10 to 20:\n",
      "\n",
      "```python\n",
      "for number in range(10, 21):\n",
      "    if number % 2 == 0:\n",
      "        print(number)\n",
      "```\n",
      "\n",
      "When you run this code, it will output:\n",
      "\n",
      "```\n",
      "10\n",
      "12\n",
      "14\n",
      "16\n",
      "18\n",
      "20\n",
      "```\n"
     ]
    }
   ],
   "source": [
    "input=\"Write a python code to print even numbers from 10 to 20\"\n",
    "print(chat_gpt_recommendation(input=input))"
   ]
  }
 ],
 "metadata": {
  "kernelspec": {
   "display_name": "Python 3",
   "language": "python",
   "name": "python3"
  },
  "language_info": {
   "codemirror_mode": {
    "name": "ipython",
    "version": 3
   },
   "file_extension": ".py",
   "mimetype": "text/x-python",
   "name": "python",
   "nbconvert_exporter": "python",
   "pygments_lexer": "ipython3",
   "version": "3.12.2"
  },
  "orig_nbformat": 4
 },
 "nbformat": 4,
 "nbformat_minor": 2
}
