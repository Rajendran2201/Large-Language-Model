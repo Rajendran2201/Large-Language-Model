{
 "cells": [
  {
   "cell_type": "markdown",
   "metadata": {},
   "source": [
    "### RHLF - LLM Model"
   ]
  },
  {
   "cell_type": "markdown",
   "metadata": {},
   "source": [
    "This model is based on Reinforcement Learning "
   ]
  },
  {
   "cell_type": "code",
   "execution_count": 1,
   "metadata": {},
   "outputs": [
    {
     "name": "stderr",
     "output_type": "stream",
     "text": [
      "/Users/rajendran/Desktop/LLM/llm_workshop/lib/python3.12/site-packages/tqdm/auto.py:21: TqdmWarning: IProgress not found. Please update jupyter and ipywidgets. See https://ipywidgets.readthedocs.io/en/stable/user_install.html\n",
      "  from .autonotebook import tqdm as notebook_tqdm\n"
     ]
    }
   ],
   "source": [
    "# importing the dependencies \n",
    "\n",
    "from sentence_transformers import SentenceTransformer, util\n",
    "import pandas as pd\n",
    "import torch"
   ]
  },
  {
   "cell_type": "code",
   "execution_count": 19,
   "metadata": {},
   "outputs": [],
   "source": [
    "# Sample patient question-answer pairs\n",
    "patient_data = [\n",
    "    {\"question\": \"What are the symptoms of COVID-19?\", \"answer\": \"Common symptoms of COVID-19 include fever, cough, and shortness of breath.\"},\n",
    "    {\"question\": \"How is diabetes diagnosed?\", \"answer\": \"Diabetes is diagnosed through tests such as fasting blood sugar, oral glucose tolerance test, etc.\"},\n",
    "    {\"question\": \"What treatments are available for asthma?\", \"answer\": \"Treatments for asthma include bronchodilators, inhaled corticosteroids, etc.\"},\n",
    "    {\"question\": \"What are the risk factors for heart disease?\", \"answer\": \"Risk factors for heart disease include high blood pressure, high cholesterol, smoking, obesity, diabetes, and a sedentary lifestyle.\"},\n",
    "    {\"question\": \"How does chemotherapy work?\", \"answer\": \"Chemotherapy works by targeting and killing rapidly dividing cells, which includes cancer cells. It can be administered orally or intravenously.\"},\n",
    "    {\"question\": \"What are the symptoms of a stroke?\", \"answer\": \"Symptoms of a stroke include sudden numbness or weakness in the face, arm, or leg, confusion, trouble speaking or understanding, and difficulty walking.\"},\n",
    "    {\"question\": \"What is the function of the pancreas?\", \"answer\": \"The pancreas produces enzymes that aid in digestion and hormones such as insulin and glucagon that regulate blood sugar levels.\"},\n",
    "    {\"question\": \"What are the benefits of regular exercise?\", \"answer\": \"Regular exercise can improve cardiovascular health, strengthen muscles and bones, boost mood, reduce stress, and help maintain a healthy weight.\"},\n",
    "    {\"question\": \"What is the role of antioxidants in the body?\", \"answer\": \"Antioxidants help neutralize harmful free radicals in the body, reducing oxidative stress and lowering the risk of chronic diseases such as cancer and heart disease.\"},\n",
    "    {\"question\": \"How does insulin regulate blood sugar levels?\", \"answer\": \"Insulin facilitates the uptake of glucose by cells, reducing blood sugar levels. It also signals the liver to store excess glucose as glycogen.\"}\n",
    "]\n"
   ]
  },
  {
   "cell_type": "code",
   "execution_count": 3,
   "metadata": {},
   "outputs": [],
   "source": [
    "# Load pre-trained Sentence Transformer model\n",
    "\n",
    "\n",
    "model = SentenceTransformer('paraphrase-MiniLM-L6-v2')\n",
    "df = pd.DataFrame(patient_data)"
   ]
  },
  {
   "cell_type": "code",
   "execution_count": 4,
   "metadata": {},
   "outputs": [],
   "source": [
    "# Embed the answers\n",
    "\n",
    "\n",
    "def calculate_similarity(query, embeddings):\n",
    "    query_embedding = model.encode(query, convert_to_tensor=True)\n",
    "    cos_scores = util.pytorch_cos_sim(query_embedding, embeddings)[0]\n",
    "    return cos_scores"
   ]
  },
  {
   "cell_type": "code",
   "execution_count": 5,
   "metadata": {},
   "outputs": [],
   "source": [
    "def input_text_model(input_text):\n",
    "    input_sentence_processed = ''.join([i for i in input_text if not i.isdigit()])\n",
    "    query = input_sentence_processed\n",
    "    answer_embeddings = model.encode(df['question'], convert_to_tensor=True)\n",
    "    query_similarity = calculate_similarity(query, answer_embeddings)\n",
    "    top_n = 1\n",
    "    top_indices = query_similarity.argsort().cpu().numpy()[-top_n:]\n",
    "    similar_answers = df.loc[top_indices, 'answer'].tolist()\n",
    "    return similar_answers[-1]"
   ]
  },
  {
   "cell_type": "code",
   "execution_count": 6,
   "metadata": {},
   "outputs": [],
   "source": [
    "# Collect human feedback and update model\n",
    "def update_model_with_feedback(input_text, human_feedback):\n",
    "    # Incorporate human feedback into training data\n",
    "    df.loc[len(df)] = {'question': input_text, 'answer': human_feedback}\n",
    "    answer_embeddings = model.encode(df['question'], convert_to_tensor=True)\n",
    "    input_sentence_processed = ''.join([i for i in input_text if not i.isdigit()])\n",
    "    query = input_sentence_processed\n",
    "    query_similarity = calculate_similarity(query, answer_embeddings)\n",
    "    top_n = 1\n",
    "    top_indices = query_similarity.argsort().cpu().numpy()[-top_n:]\n",
    "    similar_answers = df.loc[top_indices, 'answer'].tolist()\n",
    "    return similar_answers[-1]\n",
    "    # Re-embed updated answers\n",
    "    #answer_embeddings = model.encode(df['answer'], convert_to_tensor=True)"
   ]
  },
  {
   "cell_type": "code",
   "execution_count": 18,
   "metadata": {},
   "outputs": [
    {
     "name": "stdout",
     "output_type": "stream",
     "text": [
      "Initial Answer: Common symptoms of diabetes include frequent urination, increased thirst, extreme hunger, unexplained weight loss, fatigue, blurred vision, slow healing wounds, and tingling or numbness in the hands and feet. These symptoms may vary depending on the type of diabetes and individual characteristics, with some people experiencing no symptoms initially.\n",
      "Happy for guiding you\n"
     ]
    }
   ],
   "source": [
    "# Example usage with feedback loop\n",
    "patient_question = \"symptoms of diabetics?\"\n",
    "initial_answer = input_text_model(patient_question)\n",
    "print(\"Initial Answer:\", initial_answer)\n",
    "# Assume human provides feedback\n",
    "yes_no=input(\"Are you happy with the answer?\")\n",
    "if yes_no.lower() != \"yes\":\n",
    "    human_feedback =input(\"Provide me the data to train\")\n",
    "    #human_feedback = \"The answer provided was helpful, but it could include more details about preventive measures.\"\n",
    "     \n",
    "    updated_answer = update_model_with_feedback(patient_question, human_feedback)\n",
    "    print(\"Updated Answer:\", updated_answer)\n",
    "else :\n",
    "    print(\"Happy for guiding you\") "
   ]
  }
 ],
 "metadata": {
  "kernelspec": {
   "display_name": "llm_workshop",
   "language": "python",
   "name": "python3"
  },
  "language_info": {
   "codemirror_mode": {
    "name": "ipython",
    "version": 3
   },
   "file_extension": ".py",
   "mimetype": "text/x-python",
   "name": "python",
   "nbconvert_exporter": "python",
   "pygments_lexer": "ipython3",
   "version": "3.12.2"
  },
  "orig_nbformat": 4
 },
 "nbformat": 4,
 "nbformat_minor": 2
}
