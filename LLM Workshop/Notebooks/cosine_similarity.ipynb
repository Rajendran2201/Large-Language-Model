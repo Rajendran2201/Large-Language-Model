{
 "cells": [
  {
   "cell_type": "code",
   "execution_count": 2,
   "metadata": {},
   "outputs": [
    {
     "name": "stderr",
     "output_type": "stream",
     "text": [
      "/Users/rajendran/Desktop/LLM/llm_workshop/lib/python3.12/site-packages/tqdm/auto.py:21: TqdmWarning: IProgress not found. Please update jupyter and ipywidgets. See https://ipywidgets.readthedocs.io/en/stable/user_install.html\n",
      "  from .autonotebook import tqdm as notebook_tqdm\n"
     ]
    }
   ],
   "source": [
    "from sentence_transformers import SentenceTransformer, util\n",
    "import pandas as pd\n",
    "import torch"
   ]
  },
  {
   "cell_type": "code",
   "execution_count": 23,
   "metadata": {},
   "outputs": [],
   "source": [
    "data_for_recommendation = [\n",
    "    {\"text\": \"how to maintain health\", \"label\": 0},\n",
    "    {\"text\": \"how to protect health\", \"label\": 1},\n",
    "    {\"text\": \"factors affecting health\", \"label\": 2},\n",
    "    {\"text\": \"bad factors for health\", \"label\": 3},\n",
    "    {\"text\": \"good factors for health\", \"label\": 4},\n",
    "    {\"text\": \"preventing shutdown in health\", \"label\": 5},\n",
    "    {\"text\": \"optimizing health performance\", \"label\": 6},\n",
    "    {\"text\": \"extending lifespan in health\", \"label\": 7},\n",
    "    {\"text\": \"enhancing health efficiency\", \"label\": 8},\n",
    "    {\"text\": \"key parameters to monitor in health\", \"label\": 9}]"
   ]
  },
  {
   "cell_type": "markdown",
   "metadata": {},
   "source": [
    "### Conceptual similarity"
   ]
  },
  {
   "cell_type": "code",
   "execution_count": 24,
   "metadata": {},
   "outputs": [],
   "source": [
    "# Load a pre-trained BERT model\n",
    "model = SentenceTransformer('paraphrase-MiniLM-L6-v2')\n",
    "df = pd.DataFrame(data_for_recommendation)\n",
    "\n",
    "# Embed the texts\n",
    "embeddings = model.encode(df['text'], convert_to_tensor=True)"
   ]
  },
  {
   "cell_type": "code",
   "execution_count": 25,
   "metadata": {},
   "outputs": [],
   "source": [
    "  # Function to calculate similarity\n",
    "def calculate_similarity(query, embeddings):\n",
    "    query_embedding = model.encode(query, convert_to_tensor=True)\n",
    "    cos_scores = util.pytorch_cos_sim(query_embedding, embeddings)[0]\n",
    "    return cos_scores"
   ]
  },
  {
   "cell_type": "code",
   "execution_count": 26,
   "metadata": {},
   "outputs": [],
   "source": [
    "# Example: Find similar texts for a given query\n",
    "def input_text_model(input_text):\n",
    "    \"\"\"_summary_\n",
    "\n",
    "    Args:\n",
    "        input_text (_type_): _description_\n",
    "\n",
    "    Returns:\n",
    "        _type_: _description_\n",
    "    \"\"\"\n",
    "    \n",
    "    input_sentence_processed = ''.join([i for i in input_text if not i.isdigit()])\n",
    "    query = input_sentence_processed\n",
    "    query_similarity = calculate_similarity(query, embeddings)\n",
    "    top_n = 10\n",
    "# Convert PyTorch tensor to a NumPy array and move to CPU if necessary\n",
    "    # the data_for_recommendation that we have provided will be given a score based on their similarity\n",
    "    # That matrix will be sorted in ascending order using argsort() \n",
    "    # and the label of the one with the highest score will be printed -> similar_texts[-1] (printing the last value)\n",
    "    top_indices = query_similarity.argsort().cpu().numpy()[-top_n:]\n",
    "    similar_texts = df.loc[top_indices, 'label'].tolist()\n",
    "    label=similar_texts[-1]\n",
    "    return label"
   ]
  },
  {
   "cell_type": "code",
   "execution_count": 27,
   "metadata": {},
   "outputs": [
    {
     "name": "stdout",
     "output_type": "stream",
     "text": [
      "0\n"
     ]
    }
   ],
   "source": [
    "label=input_text_model(\"Tips for preserving health?\")\n",
    "print(label)"
   ]
  },
  {
   "cell_type": "markdown",
   "metadata": {},
   "source": [
    "#### Cosine similarity"
   ]
  },
  {
   "cell_type": "code",
   "execution_count": 30,
   "metadata": {},
   "outputs": [],
   "source": [
    "from transformers import BertTokenizer, BertForSequenceClassification\n",
    "from sklearn.metrics.pairwise import cosine_similarity\n",
    "import torch\n",
    "import numpy as np"
   ]
  },
  {
   "cell_type": "code",
   "execution_count": 31,
   "metadata": {},
   "outputs": [
    {
     "name": "stderr",
     "output_type": "stream",
     "text": [
      "Some weights of BertForSequenceClassification were not initialized from the model checkpoint at bert-base-uncased and are newly initialized: ['classifier.bias', 'classifier.weight']\n",
      "You should probably TRAIN this model on a down-stream task to be able to use it for predictions and inference.\n"
     ]
    }
   ],
   "source": [
    "# Load BERT model and tokenizer\n",
    "model = BertForSequenceClassification.from_pretrained(\"bert-base-uncased\", num_labels=2)\n",
    "tokenizer = BertTokenizer.from_pretrained(\"bert-base-uncased\")"
   ]
  },
  {
   "cell_type": "code",
   "execution_count": 32,
   "metadata": {},
   "outputs": [],
   "source": [
    "# Tokenize and encode the dataset for recommendation function only\n",
    "tokenized_data_recommendation = tokenizer(\n",
    "    [item[\"text\"] for item in data_for_recommendation],\n",
    "    padding=True,\n",
    "    truncation=True,\n",
    "    return_tensors=\"pt\"\n",
    ")\n"
   ]
  },
  {
   "cell_type": "code",
   "execution_count": 33,
   "metadata": {},
   "outputs": [],
   "source": [
    "def input_text_model(input_text):\n",
    "    \"\"\"Predict label for input text\"\"\"\n",
    "    # Process input text\n",
    "      \n",
    "    # Tokenize the input sentence\n",
    "    tokenized_input = tokenizer(\n",
    "        input_text,\n",
    "        padding=True,\n",
    "        truncation=True,\n",
    "        return_tensors=\"pt\"\n",
    "    )\n",
    "    \n",
    "    # Get the embeddings for the input sentence\n",
    "    with torch.no_grad():\n",
    "        model_output = model(**tokenized_input)\n",
    "        input_embeddings = model_output.logits.detach().numpy()\n",
    "    \n",
    "    # Get the embeddings for sentences in both datasets\n",
    "    embeddings_recommendation = model(**tokenized_data_recommendation).logits.detach().numpy()\n",
    "\n",
    "    # Calculate cosine similarity\n",
    "    similarity_recommendation = cosine_similarity(input_embeddings, embeddings_recommendation)\n",
    "\n",
    "    # Determine the label based on higher cosine similarity\n",
    "    most_similar_index_recommendation = np.argmax(similarity_recommendation)\n",
    "    label_recommendation = data_for_recommendation[most_similar_index_recommendation][\"label\"]\n",
    "    return label_recommendation"
   ]
  },
  {
   "cell_type": "code",
   "execution_count": 34,
   "metadata": {},
   "outputs": [
    {
     "name": "stdout",
     "output_type": "stream",
     "text": [
      "0\n"
     ]
    }
   ],
   "source": [
    "# Sample usage\n",
    "\n",
    "label = input_text_model(\"Tips for preserving health?\")\n",
    "print(label)"
   ]
  }
 ],
 "metadata": {
  "kernelspec": {
   "display_name": "llm_workshop",
   "language": "python",
   "name": "python3"
  },
  "language_info": {
   "codemirror_mode": {
    "name": "ipython",
    "version": 3
   },
   "file_extension": ".py",
   "mimetype": "text/x-python",
   "name": "python",
   "nbconvert_exporter": "python",
   "pygments_lexer": "ipython3",
   "version": "3.12.2"
  },
  "orig_nbformat": 4
 },
 "nbformat": 4,
 "nbformat_minor": 2
}
